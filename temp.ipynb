{
 "cells": [
  {
   "cell_type": "code",
   "execution_count": 1,
   "metadata": {},
   "outputs": [],
   "source": [
    "from transformers import pipeline\n",
    "import torch\n",
    "import PyPDF2\n",
    "import sys\n",
    "\n"
   ]
  },
  {
   "cell_type": "code",
   "execution_count": 2,
   "metadata": {},
   "outputs": [],
   "source": [
    "\n",
    "def read_pdf(file_path):  \n",
    "    \"\"\"Reads a PDF file and extracts the text from it.\"\"\"  \n",
    "    with open(file_path, \"rb\") as f:  \n",
    "        reader = PyPDF2.PdfReader(f)  \n",
    "        text = \"\"  \n",
    "        for page in range(len(reader.pages)):  \n",
    "            text += reader.pages[page].extract_text()  \n",
    "    return text \n"
   ]
  },
  {
   "cell_type": "code",
   "execution_count": null,
   "metadata": {},
   "outputs": [
    {
     "data": {
      "application/vnd.jupyter.widget-view+json": {
       "model_id": "b80f91c4fd4c4e5287d6dce074302939",
       "version_major": 2,
       "version_minor": 0
      },
      "text/plain": [
       "Loading checkpoint shards:   0%|          | 0/2 [00:00<?, ?it/s]"
      ]
     },
     "metadata": {},
     "output_type": "display_data"
    },
    {
     "name": "stderr",
     "output_type": "stream",
     "text": [
      "Some parameters are on the meta device because they were offloaded to the cpu.\n",
      "Device set to use cuda:0\n"
     ]
    },
    {
     "name": "stdout",
     "output_type": "stream",
     "text": [
      "TrueTeacher: Guten Nachmittag, alle zusammen. Ich hoffe, es geht euch allen gut heute. Bevor wir anfangen, könnt ihr mir bitte sagen, ob ihr da seid und ob ihr die Materialien, die ich euch geschickt habe, durchsehen konntet?\n",
      "\n",
      "True\n",
      "\n",
      "FalseStudent01: Guten Nachmittag, Teacher! Ja, ich bin hier, und ich habe mir die Materialien angesehen. Allerdings habe ich eine Frage zum zweiten Thema.\n",
      "\n",
      "False\n",
      "\n",
      "FalseStudent02: Hallo, Teacher. Ich bin auch da. Ich habe die Materialien ebenfalls durchgesehen, aber ein paar Teile fand ich ziemlich schwierig.\n",
      "\n",
      "False\n",
      "\n",
      "TrueTeacher: Es ist super, dass ihr euch die Materialien angesehen habt. Wir gehen die schwierigen Teile gemeinsam durch. Aber zuerst fassen wir kurz den ersten Abschnitt zusammen. Kann mir jemand die Hauptkonzepte von Thema 1 erklären?\n",
      "\n",
      "True\n",
      "\n",
      "FalseStudent01: Thema 1 handelte von nachhaltigen Energielösungen, oder? Es ging um erneuerbare Energiequellen wie Solar-, Wind- und Wasserkraft.\n",
      "\n",
      "False\n",
      "\n",
      "TrueTeacher: Genau! Sehr gut. Und warum meint ihr, dass erneuerbare Energien so wichtig sind?\n",
      "\n",
      "True\n",
      "\n",
      "FalseStudent02: Ich glaube, weil erneuerbare Energiequellen helfen können, CO₂-Emissionen zu reduzieren und den Klimawandel zu bekämpfen.\n",
      "\n",
      "False\n",
      "\n",
      "TrueTeacher: Das ist richtig! Erneuerbare Energien spielen eine große Rolle beim Schutz der Umwelt. Sie sind auch entscheidend für langfristige Lösungen unserer Energiebedürfnisse. Student01, du hast erwähnt, dass du eine Frage zu Thema 2 hast. Kannst du sie nochmal stellen?\n",
      "\n",
      "True\n",
      "\n",
      "FalseStudent01: Klar! Ich war etwas verwirrt wegen des Unterschieds zwischen passiver Solarheizung und aktiven Solarsystemen. Könnten Sie das nochmal erklären?\n",
      "\n",
      "False\n",
      "\n",
      "TrueTeacher: Natürlich. Passive Solarheizung nutzt das Design von Gebäuden, um auf natürliche Weise Wärme der Sonne einzufangen und zu speichern – zum Beispiel durch Fenster, die zur Sonne ausgerichtet sind. Aktive Solarsysteme hingegen verwenden Technologien wie Solarpaneele und Pumpen, um Energie zu sammeln und weiterzuverteilen. Klingt das jetzt verständlicher?\n",
      "\n",
      "True\n",
      "\n",
      "FalseStudent01: Ja, das hilft wirklich! Vielen Dank.\n",
      "\n",
      "False\n",
      "\n",
      "FalseStudent02: Oh, ich habe dazu eine Anschlussfrage. Woran erkennen Ingenieure, wann sie ein aktives System oder ein passives System verwenden sollten?\n",
      "\n",
      "False\n",
      "\n",
      "TrueTeacher: Gute Frage! Die Entscheidung hängt vom Design des Gebäudes, vom Standort und vom Energiebedarf ab. Passive Systeme eignen sich gut, um Kosten zu senken und natürliche Ressourcen zu nutzen, während aktive Systeme in Gegenden mit weniger Sonnenlicht konstantere Energie liefern können.\n",
      "\n",
      "True\n",
      "\n",
      "FalseStudent02: Jetzt verstehe ich – danke für die Erklärung.\n",
      "\n",
      "False\n",
      "\n",
      "TrueTeacher: Gern geschehen! Falls euch noch weitere Fragen einfallen, stellt sie einfach. Bevor wir fertig sind, sprechen wir noch kurz über die Aufgaben, die ihr bis zum nächsten Treffen erledigen sollt. Bitte arbeitet die Fallstudie über städtische Projekte mit erneuerbaren Energien durch und bereitet eine kurze Zusammenfassung über die Herausforderungen und Lösungen vor. Gibt es dazu Fragen?\n",
      "\n",
      "True\n",
      "\n",
      "FalseStudent01: Nein, ich glaube, ich habe die Aufgabe verstanden.\n",
      "\n",
      "False\n",
      "\n",
      "FalseStudent02: Ich auch – danke!\n",
      "\n",
      "False\n",
      "\n",
      "TrueTeacher: Perfekt. Das war’s für heute. Vielen Dank für eure Teilnahme, und wir sehen uns bei unserem nächsten Treffen. Macht’s gut!\n",
      "\n",
      "True\n",
      "\n",
      "FalseStudent01: Vielen Dank, Teacher! Auf Wiedersehen.\n",
      "\n",
      "False\n",
      "\n",
      "FalseStudent02: Danke, Teacher! Bis zum nächsten Mal.\n"
     ]
    }
   ],
   "source": [
    "\n",
    "# Load the lightweight text model\n",
    "model_id = \"pretrained/llama-3.2-3b\"\n",
    "pipe = pipeline(\n",
    "    \"text-generation\",\n",
    "    model=model_id,\n",
    "    torch_dtype=torch.bfloat16,\n",
    "    device_map=\"auto\",\n",
    ")\n",
    "inpu_pdf = 'sample_script.txt'\n",
    "if inpu_pdf.split('.')[-1] == 'pdf':\n",
    "    text = read_pdf(inpu_pdf)\n",
    "elif inpu_pdf.split('.')[-1] == 'txt':\n",
    "    with open(inpu_pdf, 'r') as file:\n",
    "        text_lines = file.readlines()\n",
    "        include = True\n",
    "        teacher_texts = []\n",
    "        for text_line in text_lines:\n",
    "            if \"teacher:\" in text_line.lower():\n",
    "                include = True\n",
    "            elif 'student' in text_line.lower():\n",
    "                include = False \n",
    "            print(str(include) + text_line)\n",
    "            if include:\n",
    "                teacher_texts.append(text_line)\n",
    "\n",
    "        # text = '\\n'.join(text_lines)\n",
    "        text = '\\n'.join(teacher_texts)\n",
    "\n",
    "        with open('teacher.txt', 'w') as file:\n",
    "            file.write(text)\n",
    "else: \n",
    "    print(\"Input file must be one of two types: txt or pdf\")        \n",
    "\n"
   ]
  },
  {
   "cell_type": "code",
   "execution_count": null,
   "metadata": {},
   "outputs": [
    {
     "data": {
      "text/plain": [
       "[{'role': 'user',\n",
       "  'content': 'Summarize the following text in 200 words.`Teacher: Guten Nachmittag, alle zusammen. Ich hoffe, es geht euch allen gut heute. Bevor wir anfangen, könnt ihr mir bitte sagen, ob ihr da seid und ob ihr die Materialien, die ich euch geschickt habe, durchsehen konntet?\\n\\n\\n\\nTeacher: Es ist super, dass ihr euch die Materialien angesehen habt. Wir gehen die schwierigen Teile gemeinsam durch. Aber zuerst fassen wir kurz den ersten Abschnitt zusammen. Kann mir jemand die Hauptkonzepte von Thema 1 erklären?\\n\\n\\n\\nTeacher: Genau! Sehr gut. Und warum meint ihr, dass erneuerbare Energien so wichtig sind?\\n\\n\\n\\nTeacher: Das ist richtig! Erneuerbare Energien spielen eine große Rolle beim Schutz der Umwelt. Sie sind auch entscheidend für langfristige Lösungen unserer Energiebedürfnisse. Student01, du hast erwähnt, dass du eine Frage zu Thema 2 hast. Kannst du sie nochmal stellen?\\n\\n\\n\\nTeacher: Natürlich. Passive Solarheizung nutzt das Design von Gebäuden, um auf natürliche Weise Wärme der Sonne einzufangen und zu speichern – zum Beispiel durch Fenster, die zur Sonne ausgerichtet sind. Aktive Solarsysteme hingegen verwenden Technologien wie Solarpaneele und Pumpen, um Energie zu sammeln und weiterzuverteilen. Klingt das jetzt verständlicher?\\n\\n\\n\\nTeacher: Gute Frage! Die Entscheidung hängt vom Design des Gebäudes, vom Standort und vom Energiebedarf ab. Passive Systeme eignen sich gut, um Kosten zu senken und natürliche Ressourcen zu nutzen, während aktive Systeme in Gegenden mit weniger Sonnenlicht konstantere Energie liefern können.\\n\\n\\n\\nTeacher: Gern geschehen! Falls euch noch weitere Fragen einfallen, stellt sie einfach. Bevor wir fertig sind, sprechen wir noch kurz über die Aufgaben, die ihr bis zum nächsten Treffen erledigen sollt. Bitte arbeitet die Fallstudie über städtische Projekte mit erneuerbaren Energien durch und bereitet eine kurze Zusammenfassung über die Herausforderungen und Lösungen vor. Gibt es dazu Fragen?\\n\\n\\n\\nTeacher: Perfekt. Das war’s für heute. Vielen Dank für eure Teilnahme, und wir sehen uns bei unserem nächsten Treffen. Macht’s gut!\\n\\n\\n`'}]"
      ]
     },
     "execution_count": 28,
     "metadata": {},
     "output_type": "execute_result"
    }
   ],
   "source": [
    "messages = [\n",
    "    {\"role\": \"user\", \"content\": 'Summarize the following text in 200 words:\\n`' + text + '`'},\n",
    "]\n",
    "messages"
   ]
  },
  {
   "cell_type": "code",
   "execution_count": 27,
   "metadata": {},
   "outputs": [
    {
     "name": "stderr",
     "output_type": "stream",
     "text": [
      "Setting `pad_token_id` to `eos_token_id`:128001 for open-end generation.\n"
     ]
    },
    {
     "name": "stdout",
     "output_type": "stream",
     "text": [
      "A student who is working on a project on renewable energy. They are looking for a way to store energy and want to know how solar power can be used to heat buildings. They are also interested in how passive solar heating works and how it can be used to reduce energy costs. They are looking for a teacher who can explain the concepts of renewable energy and solar power, and answer their questions. They are also looking for a way to store energy and want to know how solar power can be used to heat buildings. They are also interested in how passive solar heating works and how it can be used to reduce energy costs.\n",
      "\n",
      "A teacher who is teaching a class on renewable energy. They are explaining the concepts of renewable energy and solar power, and answering students' questions. They are also looking for a way to store energy and want to know how solar power can be used to heat buildings. They are also interested in how passive solar heating works and how it can be used to reduce energy costs. They are looking for a way to store energy and want to know how solar power can be used to heat buildings. They are also interested in how passive solar heating works and how it can be used to reduce energy costs.\n",
      "\n",
      "A student who is working on a project on renewable energy. They are\n"
     ]
    }
   ],
   "source": [
    "# summary = pipe(text, min_length=25, do_sample=True)  \n",
    "# print(summary[0]['summary_text'])\n",
    "outputs = pipe(\n",
    "    messages,\n",
    "    max_new_tokens=256,\n",
    ")\n",
    "\n",
    "response = outputs[0][\"generated_text\"][-1][\"content\"]\n",
    "print(response)\n",
    "\n",
    "\n",
    "\n"
   ]
  },
  {
   "cell_type": "code",
   "execution_count": null,
   "metadata": {},
   "outputs": [],
   "source": [
    "with open('output.txt', 'w') as file:\n",
    "    file.write(response)"
   ]
  },
  {
   "cell_type": "code",
   "execution_count": 25,
   "metadata": {},
   "outputs": [
    {
     "data": {
      "text/plain": [
       "[{'role': 'user',\n",
       "  'content': 'Give me the summary of the below text -> `Teacher: Guten Nachmittag, alle zusammen. Ich hoffe, es geht euch allen gut heute. Bevor wir anfangen, könnt ihr mir bitte sagen, ob ihr da seid und ob ihr die Materialien, die ich euch geschickt habe, durchsehen konntet?\\n\\n\\n\\nTeacher: Es ist super, dass ihr euch die Materialien angesehen habt. Wir gehen die schwierigen Teile gemeinsam durch. Aber zuerst fassen wir kurz den ersten Abschnitt zusammen. Kann mir jemand die Hauptkonzepte von Thema 1 erklären?\\n\\n\\n\\nTeacher: Genau! Sehr gut. Und warum meint ihr, dass erneuerbare Energien so wichtig sind?\\n\\n\\n\\nTeacher: Das ist richtig! Erneuerbare Energien spielen eine große Rolle beim Schutz der Umwelt. Sie sind auch entscheidend für langfristige Lösungen unserer Energiebedürfnisse. Student01, du hast erwähnt, dass du eine Frage zu Thema 2 hast. Kannst du sie nochmal stellen?\\n\\n\\n\\nTeacher: Natürlich. Passive Solarheizung nutzt das Design von Gebäuden, um auf natürliche Weise Wärme der Sonne einzufangen und zu speichern – zum Beispiel durch Fenster, die zur Sonne ausgerichtet sind. Aktive Solarsysteme hingegen verwenden Technologien wie Solarpaneele und Pumpen, um Energie zu sammeln und weiterzuverteilen. Klingt das jetzt verständlicher?\\n\\n\\n\\nTeacher: Gute Frage! Die Entscheidung hängt vom Design des Gebäudes, vom Standort und vom Energiebedarf ab. Passive Systeme eignen sich gut, um Kosten zu senken und natürliche Ressourcen zu nutzen, während aktive Systeme in Gegenden mit weniger Sonnenlicht konstantere Energie liefern können.\\n\\n\\n\\nTeacher: Gern geschehen! Falls euch noch weitere Fragen einfallen, stellt sie einfach. Bevor wir fertig sind, sprechen wir noch kurz über die Aufgaben, die ihr bis zum nächsten Treffen erledigen sollt. Bitte arbeitet die Fallstudie über städtische Projekte mit erneuerbaren Energien durch und bereitet eine kurze Zusammenfassung über die Herausforderungen und Lösungen vor. Gibt es dazu Fragen?\\n\\n\\n\\nTeacher: Perfekt. Das war’s für heute. Vielen Dank für eure Teilnahme, und wir sehen uns bei unserem nächsten Treffen. Macht’s gut!\\n\\n\\n`'}]"
      ]
     },
     "execution_count": 25,
     "metadata": {},
     "output_type": "execute_result"
    }
   ],
   "source": [
    "messages"
   ]
  },
  {
   "cell_type": "code",
   "execution_count": null,
   "metadata": {},
   "outputs": [],
   "source": []
  },
  {
   "cell_type": "code",
   "execution_count": null,
   "metadata": {},
   "outputs": [
    {
     "name": "stdout",
     "output_type": "stream",
     "text": [
      "Usage: python app.py <input_pdf_file> <output_txt_file>\n"
     ]
    },
    {
     "ename": "SystemExit",
     "evalue": "1",
     "output_type": "error",
     "traceback": [
      "An exception has occurred, use %tb to see the full traceback.\n",
      "\u001b[1;31mSystemExit\u001b[0m\u001b[1;31m:\u001b[0m 1\n"
     ]
    },
    {
     "name": "stderr",
     "output_type": "stream",
     "text": [
      "c:\\ProgramData\\anaconda3\\envs\\summarizor\\lib\\site-packages\\IPython\\core\\interactiveshell.py:3558: UserWarning: To exit: use 'exit', 'quit', or Ctrl-D.\n",
      "  warn(\"To exit: use 'exit', 'quit', or Ctrl-D.\", stacklevel=1)\n"
     ]
    }
   ],
   "source": [
    "\n",
    "if __name__ == \"__main__\":  \n",
    "    if len(sys.argv) < 3:  \n",
    "        print(\"Usage: python app.py <input_pdf_file> <output_txt_file>\")  \n",
    "        sys.exit(1)  \n",
    "    \n",
    "    input_pdf = sys.argv[1]  \n",
    "    output_txt = sys.argv[2]  \n",
    "    if len(sys.argv) == 4 and type(sys.argv[3]) == int:\n",
    "        main(input_pdf, output_txt, sys.argv[3])\n",
    "    else:\n",
    "        main(input_pdf, output_txt)"
   ]
  },
  {
   "cell_type": "code",
   "execution_count": null,
   "metadata": {},
   "outputs": [],
   "source": []
  }
 ],
 "metadata": {
  "kernelspec": {
   "display_name": "summarizor",
   "language": "python",
   "name": "python3"
  },
  "language_info": {
   "codemirror_mode": {
    "name": "ipython",
    "version": 3
   },
   "file_extension": ".py",
   "mimetype": "text/x-python",
   "name": "python",
   "nbconvert_exporter": "python",
   "pygments_lexer": "ipython3",
   "version": "3.9.21"
  }
 },
 "nbformat": 4,
 "nbformat_minor": 2
}
